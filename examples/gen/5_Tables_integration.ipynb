{
 "cells": [
  {
   "cell_type": "markdown",
   "source": [
    "# Tables.jl integration example\n",
    "\n",
    "This example demonstrates the Tables.jl integration in Fastback by running\n",
    "a simple backtest and then converting account data to DataFrames for display.\n",
    "\n",
    "The Tables.jl interface provides zero-copy views of trades, positions,\n",
    "cash balances, equity balances, and collector output, making it easy to\n",
    "export results to DataFrames.jl, CSV.jl, Arrow.jl or any other package\n",
    "that consumes Tables-compatible sources."
   ],
   "metadata": {}
  },
  {
   "outputs": [
    {
     "name": "stdout",
     "output_type": "stream",
     "text": [
      "━━━━━━━━━━━━━━━━━━━━━━━━━━━━━━━ ACCOUNT SUMMARY ━━━━━━━━━━━━━━━━━━━━━━━━━━━━━━━\n",
      "\u001b[1mCash balances\u001b[0m (1)\n",
      "┌─────┬─────────┐\n",
      "│     │   Value │\n",
      "├─────┼─────────┤\n",
      "│ USD │ 4995.13 │\n",
      "└─────┴─────────┘\n",
      "\n",
      "\u001b[1mEquity balances\u001b[0m (1)\n",
      "┌─────┬─────────┐\n",
      "│     │   Value │\n",
      "├─────┼─────────┤\n",
      "│ USD │ 5028.50 │\n",
      "└─────┴─────────┘\n",
      "\n",
      "\u001b[1mPositions\u001b[0m (2)\n",
      "┌──────────┬────────┬────────────┬─────┬────────┐\n",
      "│   Symbol │    Qty │ Avg. price │ Ccy │    P&L │\n",
      "├──────────┼────────┼────────────┼─────┼────────┤\n",
      "│ AAPL/USD │  30.00 │     106.44 │ USD │ 123.99 │\n",
      "│ MSFT/USD │ -16.00 │     104.91 │ USD │ -90.62 │\n",
      "└──────────┴────────┴────────────┴─────┴────────┘\n",
      "\n",
      "\u001b[1mTrades\u001b[0m (5)\n",
      "┌────┬──────────┬─────────────────────┬───────┬────────┬────────┬────┬────┬─────\n",
      "│ ID │   Symbol │                Date │   Qty │ Filled │  Price │ TP │ SL │ Cc ⋯\n",
      "├────┼──────────┼─────────────────────┼───────┼────────┼────────┼────┼────┼─────\n",
      "│  1 │ AAPL/USD │ 2021-01-07 15:00:00 │ 10.00 │  10.00 │ 105.87 │  — │  — │ US ⋯\n",
      "│  2 │ AAPL/USD │ 2021-01-08 01:00:00 │ 10.00 │  10.00 │ 108.04 │  — │  — │ US ⋯\n",
      "│  3 │ MSFT/USD │ 2021-01-09 07:00:00 │ -8.00 │  -8.00 │ 102.95 │  — │  — │ US ⋯\n",
      "│  4 │ AAPL/USD │ 2021-01-09 17:00:00 │ 10.00 │  10.00 │ 105.41 │  — │  — │ US ⋯\n",
      "│  5 │ MSFT/USD │ 2021-01-15 03:00:00 │ -8.00 │  -8.00 │ 106.86 │  — │  — │ US ⋯\n",
      "└────┴──────────┴─────────────────────┴───────┴────────┴────────┴────┴────┴─────\n",
      "                                                               5 columns omitted\n",
      "━━━━━━━━━━━━━━━━━━━━━━━━━━━━━━━━━━━━━━━━━━━━━━━━━━━━━━━━━━━━━━━━━━━━━━━━━━━━━━━━\n"
     ]
    }
   ],
   "cell_type": "code",
   "source": [
    "using Fastback\n",
    "using DataFrames\n",
    "using Dates\n",
    "using Random\n",
    "\n",
    "# set RNG seed for reproducibility\n",
    "Random.seed!(123);\n",
    "\n",
    "# generate synthetic price series\n",
    "N = 500;\n",
    "prices = 100.0 .+ cumsum(randn(N) .* 0.5 .+ 0.05);\n",
    "dts = map(x -> DateTime(2021, 1, 1) + Hour(x), 0:N-1);\n",
    "\n",
    "# create trading account with $5'000 start capital and custom metadata types\n",
    "const OrderMeta = NamedTuple{(:signal,),Tuple{String}}\n",
    "const InstMeta = NamedTuple{(:sector,),Tuple{Symbol}}\n",
    "\n",
    "acc = Account(; odata=OrderMeta, idata=InstMeta);\n",
    "deposit!(acc, Cash(:USD), 5_000.0);\n",
    "\n",
    "# register instruments with metadata\n",
    "AAPL = register_instrument!(acc, Instrument(Symbol(\"AAPL/USD\"), :AAPL, :USD; metadata=(sector=:tech,)));\n",
    "MSFT = register_instrument!(acc, Instrument(Symbol(\"MSFT/USD\"), :MSFT, :USD; metadata=(sector=:tech,)));\n",
    "\n",
    "# data collectors\n",
    "collect_equity, equity_data = periodic_collector(Float64, Hour(12));\n",
    "collect_drawdown, drawdown_data = drawdown_collector(DrawdownMode.Percentage, Hour(12));\n",
    "\n",
    "# simple momentum strategy\n",
    "prev_price = prices[1];\n",
    "for (i, (dt, price)) in enumerate(zip(dts, prices))\n",
    "    global prev_price\n",
    "\n",
    "    # trade every 10 hours based on price momentum\n",
    "    if i % 10 == 0 && i > 10\n",
    "        momentum = (price - prev_price) / prev_price\n",
    "\n",
    "        if momentum > 0.02  # buy signal\n",
    "            quantity = 10.0\n",
    "            order = Order(oid!(acc), AAPL, dt, price, quantity; metadata=(signal=\"mom\",))\n",
    "            fill_order!(acc, order, dt, price; commission_pct=0.001)\n",
    "\n",
    "        elseif momentum < -0.02  # sell signal\n",
    "            quantity = -8.0\n",
    "            order = Order(oid!(acc), MSFT, dt, price, quantity; metadata=(signal=\"mom\",))\n",
    "            fill_order!(acc, order, dt, price; commission_pct=0.001)\n",
    "        end\n",
    "\n",
    "        prev_price = price\n",
    "    end\n",
    "\n",
    "    # update positions P&L\n",
    "    update_pnl!(acc, AAPL, price, price)\n",
    "    update_pnl!(acc, MSFT, price, price)\n",
    "\n",
    "    # collect equity data\n",
    "    if should_collect(equity_data, dt)\n",
    "        equity_value = equity(acc, :USD)\n",
    "        collect_equity(dt, equity_value)\n",
    "        collect_drawdown(dt, equity_value)\n",
    "    end\n",
    "end\n",
    "\n",
    "# print account summary\n",
    "show(acc)"
   ],
   "metadata": {},
   "execution_count": 1
  },
  {
   "cell_type": "markdown",
   "source": [
    "### Convert trades to DataFrame"
   ],
   "metadata": {}
  },
  {
   "outputs": [
    {
     "name": "stdout",
     "output_type": "stream",
     "text": [
      "5×17 DataFrame\n",
      " Row │ tid    oid    trade_date           order_date           symbol    side  fill_price  fill_qty  remaining_qty  take_profit  stop_loss  realized_pnl  realized_qty  position_qty  position_price  commission  order_metadata\n",
      "     │ Int64  Int64  DateTime             DateTime             Symbol    T     Float64     Float64   Float64        Float64      Float64    Float64       Float64       Float64       Float64         Float64     NamedTuple…\n",
      "─────┼──────────────────────────────────────────────────────────────────────────────────────────────────────────────────────────────────────────────────────────────────────────────────────────────────────────────────────────────\n",
      "   1 │     1      1  2021-01-07T15:00:00  2021-01-07T15:00:00  AAPL/USD  Buy      105.867      10.0            0.0          NaN        NaN     -1.05867            0.0           0.0           0.0      1.05867   (signal = \"mom\",)\n",
      "   2 │     2      2  2021-01-08T01:00:00  2021-01-08T01:00:00  AAPL/USD  Buy      108.035      10.0            0.0          NaN        NaN     -1.08035            0.0          10.0         105.867    1.08035   (signal = \"mom\",)\n",
      "   3 │     3      3  2021-01-09T07:00:00  2021-01-09T07:00:00  MSFT/USD  Sell     102.955      -8.0            0.0          NaN        NaN     -0.823639           0.0           0.0           0.0      0.823639  (signal = \"mom\",)\n",
      "   4 │     4      4  2021-01-09T17:00:00  2021-01-09T17:00:00  AAPL/USD  Buy      105.411      10.0            0.0          NaN        NaN     -1.05411            0.0          20.0         106.951    1.05411   (signal = \"mom\",)\n",
      "   5 │     5      5  2021-01-15T03:00:00  2021-01-15T03:00:00  MSFT/USD  Sell     106.859      -8.0            0.0          NaN        NaN     -0.85487            0.0          -8.0         102.955    0.85487   (signal = \"mom\",)\n"
     ]
    }
   ],
   "cell_type": "code",
   "source": [
    "df_trades = DataFrame(trades_table(acc))\n",
    "\n",
    "println(df_trades)"
   ],
   "metadata": {},
   "execution_count": 2
  },
  {
   "cell_type": "markdown",
   "source": [
    "### Convert positions to DataFrame"
   ],
   "metadata": {}
  },
  {
   "outputs": [
    {
     "name": "stdout",
     "output_type": "stream",
     "text": [
      "2×9 DataFrame\n",
      " Row │ index   symbol    qty      avg_price  pnl_local  base_ccy  quote_ccy  last_oid  last_tid\n",
      "     │ UInt64  Symbol    Float64  Float64    Float64    Symbol    Symbol     Int64     Int64\n",
      "─────┼──────────────────────────────────────────────────────────────────────────────────────────\n",
      "   1 │      1  AAPL/USD     30.0    106.438   123.994   AAPL      USD               4         4\n",
      "   2 │      2  MSFT/USD    -16.0    104.907   -90.6229  MSFT      USD               5         5\n"
     ]
    }
   ],
   "cell_type": "code",
   "source": [
    "df_positions = DataFrame(positions_table(acc))\n",
    "\n",
    "println(df_positions)"
   ],
   "metadata": {},
   "execution_count": 3
  },
  {
   "cell_type": "markdown",
   "source": [
    "### Convert cash balances to DataFrame"
   ],
   "metadata": {}
  },
  {
   "outputs": [
    {
     "name": "stdout",
     "output_type": "stream",
     "text": [
      "1×5 DataFrame\n",
      " Row │ index   symbol  balance  digits  metadata\n",
      "     │ UInt64  Symbol  Float64  Int64   Nothing\n",
      "─────┼───────────────────────────────────────────\n",
      "   1 │      1  USD     4995.13       2\n"
     ]
    }
   ],
   "cell_type": "code",
   "source": [
    "df_balances = DataFrame(balances_table(acc))\n",
    "\n",
    "println(df_balances)"
   ],
   "metadata": {},
   "execution_count": 4
  },
  {
   "cell_type": "markdown",
   "source": [
    "### Convert equity balances to DataFrame"
   ],
   "metadata": {}
  },
  {
   "outputs": [
    {
     "name": "stdout",
     "output_type": "stream",
     "text": [
      "1×5 DataFrame\n",
      " Row │ index   symbol  equity   digits  metadata\n",
      "     │ UInt64  Symbol  Float64  Int64   Nothing\n",
      "─────┼───────────────────────────────────────────\n",
      "   1 │      1  USD      5028.5       2\n"
     ]
    }
   ],
   "cell_type": "code",
   "source": [
    "df_equities = DataFrame(equities_table(acc))\n",
    "\n",
    "println(df_equities)"
   ],
   "metadata": {},
   "execution_count": 5
  },
  {
   "cell_type": "markdown",
   "source": [
    "### Convert equity collector data to DataFrame"
   ],
   "metadata": {}
  },
  {
   "outputs": [
    {
     "name": "stdout",
     "output_type": "stream",
     "text": [
      "42×2 DataFrame\n",
      " Row │ date                 value\n",
      "     │ DateTime             Float64\n",
      "─────┼──────────────────────────────\n",
      "   1 │ 2021-01-01T00:00:00  5000.0\n",
      "   2 │ 2021-01-01T12:00:00  5000.0\n",
      "   3 │ 2021-01-02T00:00:00  5000.0\n",
      "   4 │ 2021-01-02T12:00:00  5000.0\n",
      "   5 │ 2021-01-03T00:00:00  5000.0\n",
      "   6 │ 2021-01-03T12:00:00  5000.0\n",
      "   7 │ 2021-01-04T00:00:00  5000.0\n",
      "   8 │ 2021-01-04T12:00:00  5000.0\n",
      "   9 │ 2021-01-05T00:00:00  5000.0\n",
      "  10 │ 2021-01-05T12:00:00  5000.0\n",
      "  11 │ 2021-01-06T00:00:00  5000.0\n",
      "  12 │ 2021-01-06T12:00:00  5000.0\n",
      "  13 │ 2021-01-07T00:00:00  5000.0\n",
      "  14 │ 2021-01-07T12:00:00  5000.0\n",
      "  15 │ 2021-01-08T00:00:00  5012.25\n",
      "  16 │ 2021-01-08T12:00:00  4982.47\n",
      "  17 │ 2021-01-09T00:00:00  4979.38\n",
      "  18 │ 2021-01-09T12:00:00  4941.13\n",
      "  19 │ 2021-01-10T00:00:00  4958.25\n",
      "  20 │ 2021-01-10T12:00:00  4958.7\n",
      "  21 │ 2021-01-11T00:00:00  4963.23\n",
      "  22 │ 2021-01-11T12:00:00  4973.7\n",
      "  23 │ 2021-01-12T00:00:00  4941.93\n",
      "  24 │ 2021-01-12T12:00:00  4946.5\n",
      "  25 │ 2021-01-13T00:00:00  4968.53\n",
      "  26 │ 2021-01-13T12:00:00  5013.6\n",
      "  27 │ 2021-01-14T00:00:00  5028.11\n",
      "  28 │ 2021-01-14T12:00:00  5044.53\n",
      "  29 │ 2021-01-15T00:00:00  4997.3\n",
      "  30 │ 2021-01-15T12:00:00  4993.62\n",
      "  31 │ 2021-01-16T00:00:00  4986.4\n",
      "  32 │ 2021-01-16T12:00:00  4972.14\n",
      "  33 │ 2021-01-17T00:00:00  5004.29\n",
      "  34 │ 2021-01-17T12:00:00  5039.1\n",
      "  35 │ 2021-01-18T00:00:00  5032.31\n",
      "  36 │ 2021-01-18T12:00:00  5039.6\n",
      "  37 │ 2021-01-19T00:00:00  5027.09\n",
      "  38 │ 2021-01-19T12:00:00  5014.83\n",
      "  39 │ 2021-01-20T00:00:00  4975.33\n",
      "  40 │ 2021-01-20T12:00:00  5004.38\n",
      "  41 │ 2021-01-21T00:00:00  5023.07\n",
      "  42 │ 2021-01-21T12:00:00  5017.93\n"
     ]
    }
   ],
   "cell_type": "code",
   "source": [
    "df_equity_history = DataFrame(equity_data)\n",
    "\n",
    "println(df_equity_history)"
   ],
   "metadata": {},
   "execution_count": 6
  },
  {
   "cell_type": "markdown",
   "source": [
    "### Convert balance collector data to DataFrame"
   ],
   "metadata": {}
  },
  {
   "outputs": [
    {
     "name": "stdout",
     "output_type": "stream",
     "text": [
      "42×2 DataFrame\n",
      " Row │ date                 drawdown\n",
      "     │ DateTime             Float64\n",
      "─────┼───────────────────────────────────\n",
      "   1 │ 2021-01-01T00:00:00   0.0\n",
      "   2 │ 2021-01-01T12:00:00   0.0\n",
      "   3 │ 2021-01-02T00:00:00   0.0\n",
      "   4 │ 2021-01-02T12:00:00   0.0\n",
      "   5 │ 2021-01-03T00:00:00   0.0\n",
      "   6 │ 2021-01-03T12:00:00   0.0\n",
      "   7 │ 2021-01-04T00:00:00   0.0\n",
      "   8 │ 2021-01-04T12:00:00   0.0\n",
      "   9 │ 2021-01-05T00:00:00   0.0\n",
      "  10 │ 2021-01-05T12:00:00   0.0\n",
      "  11 │ 2021-01-06T00:00:00   0.0\n",
      "  12 │ 2021-01-06T12:00:00   0.0\n",
      "  13 │ 2021-01-07T00:00:00   0.0\n",
      "  14 │ 2021-01-07T12:00:00   0.0\n",
      "  15 │ 2021-01-08T00:00:00   0.0\n",
      "  16 │ 2021-01-08T12:00:00  -0.00594133\n",
      "  17 │ 2021-01-09T00:00:00  -0.00655759\n",
      "  18 │ 2021-01-09T12:00:00  -0.0141898\n",
      "  19 │ 2021-01-10T00:00:00  -0.0107733\n",
      "  20 │ 2021-01-10T12:00:00  -0.0106828\n",
      "  21 │ 2021-01-11T00:00:00  -0.00977928\n",
      "  22 │ 2021-01-11T12:00:00  -0.00769129\n",
      "  23 │ 2021-01-12T00:00:00  -0.0140289\n",
      "  24 │ 2021-01-12T12:00:00  -0.0131167\n",
      "  25 │ 2021-01-13T00:00:00  -0.00872288\n",
      "  26 │ 2021-01-13T12:00:00   0.0\n",
      "  27 │ 2021-01-14T00:00:00   0.0\n",
      "  28 │ 2021-01-14T12:00:00   0.0\n",
      "  29 │ 2021-01-15T00:00:00  -0.00936372\n",
      "  30 │ 2021-01-15T12:00:00  -0.0100926\n",
      "  31 │ 2021-01-16T00:00:00  -0.0115241\n",
      "  32 │ 2021-01-16T12:00:00  -0.0143514\n",
      "  33 │ 2021-01-17T00:00:00  -0.00797804\n",
      "  34 │ 2021-01-17T12:00:00  -0.0010763\n",
      "  35 │ 2021-01-18T00:00:00  -0.00242415\n",
      "  36 │ 2021-01-18T12:00:00  -0.000978743\n",
      "  37 │ 2021-01-19T00:00:00  -0.00345864\n",
      "  38 │ 2021-01-19T12:00:00  -0.00588812\n",
      "  39 │ 2021-01-20T00:00:00  -0.0137195\n",
      "  40 │ 2021-01-20T12:00:00  -0.00796071\n",
      "  41 │ 2021-01-21T00:00:00  -0.00425503\n",
      "  42 │ 2021-01-21T12:00:00  -0.00527428\n"
     ]
    }
   ],
   "cell_type": "code",
   "source": [
    "df_drawdown_history = DataFrame(drawdown_data)\n",
    "\n",
    "println(df_drawdown_history)"
   ],
   "metadata": {},
   "execution_count": 7
  }
 ],
 "nbformat_minor": 3,
 "metadata": {
  "language_info": {
   "file_extension": ".jl",
   "mimetype": "application/julia",
   "name": "julia",
   "version": "1.10.10"
  },
  "kernelspec": {
   "name": "julia-1.10",
   "display_name": "Julia 1.10.10",
   "language": "julia"
  }
 },
 "nbformat": 4
}
